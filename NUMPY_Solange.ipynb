{
  "nbformat": 4,
  "nbformat_minor": 0,
  "metadata": {
    "colab": {
      "provenance": [],
      "authorship_tag": "ABX9TyOsMBdpV1TBU3cW8k4hY+Nd",
      "include_colab_link": true
    },
    "kernelspec": {
      "name": "python3",
      "display_name": "Python 3"
    },
    "language_info": {
      "name": "python"
    }
  },
  "cells": [
    {
      "cell_type": "markdown",
      "metadata": {
        "id": "view-in-github",
        "colab_type": "text"
      },
      "source": [
        "<a href=\"https://colab.research.google.com/github/SolMile/SolMile/blob/main/NUMPY_Solange.ipynb\" target=\"_parent\"><img src=\"https://colab.research.google.com/assets/colab-badge.svg\" alt=\"Open In Colab\"/></a>"
      ]
    },
    {
      "cell_type": "markdown",
      "source": [
        "# *Milena Solange Andi Campos *\n",
        "#NumPy Exercises for Data Analysis\n",
        "#Ejercicios NumPy para el análisis de datos"
      ],
      "metadata": {
        "id": "Xssk1Sa0h6fS"
      }
    },
    {
      "cell_type": "markdown",
      "source": [
        "1. Importar numpy como np y ver la versión tu código aquí\n",
        "pasa"
      ],
      "metadata": {
        "id": "csaVPwcGiIbD"
      }
    },
    {
      "cell_type": "code",
      "execution_count": 1,
      "metadata": {
        "colab": {
          "base_uri": "https://localhost:8080/"
        },
        "id": "8OPvyijmh0HX",
        "outputId": "fee637c3-9917-49f9-b4d2-a0c7e66131c8"
      },
      "outputs": [
        {
          "output_type": "stream",
          "name": "stdout",
          "text": [
            "Python 3.10.12\n"
          ]
        }
      ],
      "source": [
        "# 1. Import numpy as np and see the version\n",
        "# your code here\n",
        "!python --version\n",
        "import numpy as np\n",
        "\n"
      ]
    },
    {
      "cell_type": "markdown",
      "source": [
        "2. Crea un array 1D de números del 0 al 9\n",
        "\n"
      ],
      "metadata": {
        "id": "AYBwaL57iMOX"
      }
    },
    {
      "cell_type": "code",
      "source": [
        "# 2. Create a 1D array of numbers from 0 to 9\n",
        "a=np.array([0,1,2,3,4,5,6,7,8,9])\n",
        "print(a)\n",
        "print(a.shape)\n",
        "print(type(a))\n",
        "print('1 dimesion :',a[1])"
      ],
      "metadata": {
        "colab": {
          "base_uri": "https://localhost:8080/"
        },
        "id": "Wj__8enfh6U7",
        "outputId": "cba45c34-e0b1-456a-c437-9bcecec69d2a"
      },
      "execution_count": 4,
      "outputs": [
        {
          "output_type": "stream",
          "name": "stdout",
          "text": [
            "[0 1 2 3 4 5 6 7 8 9]\n",
            "(10,)\n",
            "<class 'numpy.ndarray'>\n",
            "1 dimesion : 1\n"
          ]
        }
      ]
    },
    {
      "cell_type": "markdown",
      "source": [
        "3. Create a 3×3 numpy array of all True’s\n",
        "\n"
      ],
      "metadata": {
        "id": "1oemLKO0koVU"
      }
    },
    {
      "cell_type": "code",
      "source": [
        "b =np.array([[7, 8, 9], [4, 5, 6], [7, 8, 9]])\n",
        "print(b)"
      ],
      "metadata": {
        "colab": {
          "base_uri": "https://localhost:8080/"
        },
        "id": "VK6jKfSVoJlv",
        "outputId": "3ab24e38-0ade-4199-cda6-d34f9dfe89da"
      },
      "execution_count": 51,
      "outputs": [
        {
          "output_type": "stream",
          "name": "stdout",
          "text": [
            "[[7 8 9]\n",
            " [4 5 6]\n",
            " [7 8 9]]\n"
          ]
        }
      ]
    },
    {
      "cell_type": "code",
      "source": [
        "# 3. Create a 3×3 numpy array of all True’s\n",
        "# your code here\n",
        "\n",
        "mask =b>2\n",
        "print(b.shape )\n",
        "print(mask)\n",
        "print(type(mask))"
      ],
      "metadata": {
        "colab": {
          "base_uri": "https://localhost:8080/"
        },
        "id": "CWOsvkq2kstW",
        "outputId": "c77ae185-99e8-47be-ea1c-698719292efe"
      },
      "execution_count": 52,
      "outputs": [
        {
          "output_type": "stream",
          "name": "stdout",
          "text": [
            "(3, 3)\n",
            "[[ True  True  True]\n",
            " [ True  True  True]\n",
            " [ True  True  True]]\n",
            "<class 'numpy.ndarray'>\n"
          ]
        }
      ]
    },
    {
      "cell_type": "markdown",
      "source": [
        "4. Extraer todos los números impares del arr"
      ],
      "metadata": {
        "id": "u70IzlwlqXr_"
      }
    },
    {
      "cell_type": "code",
      "source": [
        "# 4. Extract all odd numbers from arr\n",
        "# your code here\n",
        "arr = [1, 2, 3, 4, 5, 6, 7, 8, 9, 10]\n",
        "\n",
        "imp = [x for x in arr if x % 2 != 0]\n",
        "print(imp)\n"
      ],
      "metadata": {
        "colab": {
          "base_uri": "https://localhost:8080/"
        },
        "id": "CDkofbXsqfEo",
        "outputId": "ceef0178-649c-4e6b-c95a-9d9c214f652e"
      },
      "execution_count": 53,
      "outputs": [
        {
          "output_type": "stream",
          "name": "stdout",
          "text": [
            "[1, 3, 5, 7, 9]\n"
          ]
        }
      ]
    },
    {
      "cell_type": "markdown",
      "source": [
        "5. Reemplaza todos los números impares de arr por -1"
      ],
      "metadata": {
        "id": "ncJ9jBzNrBat"
      }
    },
    {
      "cell_type": "code",
      "source": [
        "# 5. Replace all odd numbers in arr with -1\n",
        "# your code here\n",
        "arr = [1, 2, 3, 4, 5, 6, 7, 8, 9, 10]\n",
        "\n",
        "for i in range(len(arr)):\n",
        "    if arr[i] % 2 != 0:  # Verifica si el número es impar\n",
        "        arr[i] = -1\n",
        "\n",
        "print(arr)"
      ],
      "metadata": {
        "colab": {
          "base_uri": "https://localhost:8080/"
        },
        "id": "YZB_LYW4rFsT",
        "outputId": "90775bfb-7fd8-461a-bf4d-1a5938c2962a"
      },
      "execution_count": 54,
      "outputs": [
        {
          "output_type": "stream",
          "name": "stdout",
          "text": [
            "[-1, 2, -1, 4, -1, 6, -1, 8, -1, 10]\n"
          ]
        }
      ]
    },
    {
      "cell_type": "markdown",
      "source": [
        "6. Convertir un array 1D en un array 2D con 2 filas\n"
      ],
      "metadata": {
        "id": "rZocw0xzrTK7"
      }
    },
    {
      "cell_type": "code",
      "source": [
        " #  6. Convert a 1D array to a 2D array with 2 rows\n",
        "# your code here\n",
        "\n",
        "array_1dime = np.array([1, 2, 3, 4, 5, 6])\n",
        "\n",
        "array_2dime = np.reshape(array_1dime, (2, -1))\n",
        "\n",
        "print(array_2dime)"
      ],
      "metadata": {
        "colab": {
          "base_uri": "https://localhost:8080/"
        },
        "id": "-MtW1Mm1rS7G",
        "outputId": "c61d9cc3-746e-4a62-b89b-8a63dd280b84"
      },
      "execution_count": 55,
      "outputs": [
        {
          "output_type": "stream",
          "name": "stdout",
          "text": [
            "[[1 2 3]\n",
            " [4 5 6]]\n"
          ]
        }
      ]
    },
    {
      "cell_type": "markdown",
      "source": [
        "7. Apila las matrices a y b verticalmente tu código aquí"
      ],
      "metadata": {
        "id": "nop9HnZ6r40h"
      }
    },
    {
      "cell_type": "code",
      "source": [
        "#  7. Stack arrays a and b vertically\n",
        "# your code here\n",
        "\n",
        "a = np.array([[1, 2, 3], [4, 5, 6]])\n",
        "b = np.array([[7, 8, 9], [10, 11, 12]])\n",
        "\n",
        "stacked = np.vstack((a, b))\n",
        "\n",
        "print(stacked)"
      ],
      "metadata": {
        "colab": {
          "base_uri": "https://localhost:8080/"
        },
        "id": "6FetWrbWskyC",
        "outputId": "8f8ed3f7-de2f-4300-aa98-5d926627141f"
      },
      "execution_count": 56,
      "outputs": [
        {
          "output_type": "stream",
          "name": "stdout",
          "text": [
            "[[ 1  2  3]\n",
            " [ 4  5  6]\n",
            " [ 7  8  9]\n",
            " [10 11 12]]\n"
          ]
        }
      ]
    },
    {
      "cell_type": "markdown",
      "source": [
        "8. Apila las matrices a y b horizontalmente."
      ],
      "metadata": {
        "id": "QA51w67_tJJJ"
      }
    },
    {
      "cell_type": "code",
      "source": [
        "#  8. Stack the arrays a and b horizontally.\n",
        "# your code here\n",
        "a = np.array([[1, 2, 3], [4, 5, 6]])\n",
        "b = np.array([[7, 8, 9], [10, 11, 12]])\n",
        "\n",
        "stacked = np.hstack((a, b))\n",
        "\n",
        "print(stacked)"
      ],
      "metadata": {
        "colab": {
          "base_uri": "https://localhost:8080/"
        },
        "id": "14-Ug_YisoZL",
        "outputId": "f9bd2dd3-8429-4dbe-b26e-36e90d2740c8"
      },
      "execution_count": 57,
      "outputs": [
        {
          "output_type": "stream",
          "name": "stdout",
          "text": [
            "[[ 1  2  3  7  8  9]\n",
            " [ 4  5  6 10 11 12]]\n"
          ]
        }
      ]
    },
    {
      "cell_type": "markdown",
      "source": [
        "9. Obtén todos los elementos entre 5 y 10 de a."
      ],
      "metadata": {
        "id": "D3HImTP1taij"
      }
    },
    {
      "cell_type": "code",
      "source": [
        "#  9. Get all items between 5 and 10 from a.\n",
        "# your code here\n",
        "a = np.arange(15)\n",
        "\n",
        "ele= a[5:11]\n",
        "print(ele)"
      ],
      "metadata": {
        "colab": {
          "base_uri": "https://localhost:8080/"
        },
        "id": "K9wox5uqtbDF",
        "outputId": "4d0fc832-9e0b-423e-881a-7005101a7e1a"
      },
      "execution_count": 64,
      "outputs": [
        {
          "output_type": "stream",
          "name": "stdout",
          "text": [
            "[ 5  6  7  8  9 10]\n"
          ]
        }
      ]
    },
    {
      "cell_type": "markdown",
      "source": [
        "10. ¿Cómo hacer que una función python que maneja escalares funcione con arrays numpy?\n",
        "Sugerencia\n",
        "Salida deseada:\n",
        "a = np.array([5, 7, 9, 8, 6, 4, 5])\n",
        "b = np.array([6, 3, 4, 8, 9, 7, 1])\n"
      ],
      "metadata": {
        "id": "JxFRHHEutm1R"
      }
    },
    {
      "cell_type": "code",
      "source": [
        "def pair_max(x, y):\n",
        "    \"\"\"Obtiene el máximo de dos elementos en arrays NumPy\"\"\"\n",
        "    return np.maximum(x, y)\n",
        "\n",
        "a = np.array([5, 7, 9, 8, 6, 4, 5])\n",
        "b = np.array([6, 3, 4, 8, 9, 7, 1])\n",
        "\n",
        "result = pair_max(a, b)\n",
        "print(result)"
      ],
      "metadata": {
        "colab": {
          "base_uri": "https://localhost:8080/"
        },
        "id": "3nEUT65HtbGZ",
        "outputId": "a3c729ee-47a3-4b1c-f12e-25e2d8be7f37"
      },
      "execution_count": 59,
      "outputs": [
        {
          "output_type": "stream",
          "name": "stdout",
          "text": [
            "[ 0  1  2  3  4  5  6  7  8  9 10 11 12 13 14]\n"
          ]
        }
      ]
    },
    {
      "cell_type": "markdown",
      "source": [
        "11. Intercambia las columnas 1 y 2 del array arr."
      ],
      "metadata": {
        "id": "gRw6TzH5vqNJ"
      }
    },
    {
      "cell_type": "code",
      "source": [
        "arr = np.arange(9).reshape(3, 3)\n",
        "print(arr)\n",
        "\n",
        "# Intercambiar columnas 1 y 2\n",
        "arr[:, [1, 2]] = arr[:, [2, 1]]\n",
        "\n",
        "print(arr)"
      ],
      "metadata": {
        "colab": {
          "base_uri": "https://localhost:8080/"
        },
        "id": "w2WS4Q3gvyW6",
        "outputId": "c9d103d8-68cb-4ff7-8176-05bfaa650b06"
      },
      "execution_count": 65,
      "outputs": [
        {
          "output_type": "stream",
          "name": "stdout",
          "text": [
            "[[0 1 2]\n",
            " [3 4 5]\n",
            " [6 7 8]]\n",
            "[[0 2 1]\n",
            " [3 5 4]\n",
            " [6 8 7]]\n"
          ]
        }
      ]
    },
    {
      "cell_type": "markdown",
      "source": [
        "12. Crear un array 2D de forma 5x3 para contener números decimales aleatorios entre 5"
      ],
      "metadata": {
        "id": "_60ytjGsv-Td"
      }
    },
    {
      "cell_type": "code",
      "source": [
        "# Crear un array 2D de forma 5x3 con números decimales aleatorios entre 5 y 10\n",
        "arr = np.random.uniform(5, 10, (5, 3))\n",
        "\n",
        "print(arr)"
      ],
      "metadata": {
        "colab": {
          "base_uri": "https://localhost:8080/"
        },
        "id": "TVTwnRDpwEBK",
        "outputId": "2bdeee8a-b22d-470f-f4ec-e50cd7643cac"
      },
      "execution_count": 66,
      "outputs": [
        {
          "output_type": "stream",
          "name": "stdout",
          "text": [
            "[[6.23803792 5.8941851  7.12139162]\n",
            " [8.35370416 5.22321641 6.348545  ]\n",
            " [9.83793395 6.80463904 7.09347392]\n",
            " [7.7041318  5.96794615 7.91882432]\n",
            " [5.94854708 7.78775278 9.78940692]]\n"
          ]
        }
      ]
    }
  ]
}