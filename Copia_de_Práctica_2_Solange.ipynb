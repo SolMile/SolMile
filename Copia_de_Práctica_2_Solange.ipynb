{
  "nbformat": 4,
  "nbformat_minor": 0,
  "metadata": {
    "colab": {
      "provenance": [],
      "authorship_tag": "ABX9TyPnvixGIt3rY4V194mBsLak",
      "include_colab_link": true
    },
    "kernelspec": {
      "name": "python3",
      "display_name": "Python 3"
    },
    "language_info": {
      "name": "python"
    }
  },
  "cells": [
    {
      "cell_type": "markdown",
      "metadata": {
        "id": "view-in-github",
        "colab_type": "text"
      },
      "source": [
        "<a href=\"https://colab.research.google.com/github/SolMile/SolMile/blob/main/Copia_de_Pr%C3%A1ctica_2_Solange.ipynb\" target=\"_parent\"><img src=\"https://colab.research.google.com/assets/colab-badge.svg\" alt=\"Open In Colab\"/></a>"
      ]
    },
    {
      "cell_type": "markdown",
      "source": [],
      "metadata": {
        "id": "OwmPjeB_y1ES"
      }
    },
    {
      "cell_type": "markdown",
      "source": [
        "declarar funciones"
      ],
      "metadata": {
        "id": "3VAVzdBO2GAt"
      }
    },
    {
      "cell_type": "code",
      "execution_count": null,
      "metadata": {
        "id": "nNCJxMwlyHAl",
        "colab": {
          "base_uri": "https://localhost:8080/"
        },
        "outputId": "a89ec06d-666b-49c2-db6e-90197237df8b"
      },
      "outputs": [
        {
          "output_type": "stream",
          "name": "stdout",
          "text": [
            "My list: [-1, 0, 1]\n",
            ".......\n",
            "Negative\n",
            "Zero\n",
            "Positive\n"
          ]
        }
      ],
      "source": [
        "ListTemp=list()\n",
        "ListTemp.append(-1)\n",
        "ListTemp.append(0)\n",
        "ListTemp.append(1)\n",
        "\n",
        "print('My list: {}'.format(ListTemp))\n",
        "\n",
        "print('.......')\n",
        "\n",
        "def positiveNegative(number):\n",
        "  if number<0:\n",
        "    print('Negative')\n",
        "  elif number>0:\n",
        "    print('Positive')\n",
        "  else:\n",
        "    print('Zero')\n",
        "  pass\n",
        "\n",
        "for item in ListTemp:\n",
        " positiveNegative(item)"
      ]
    },
    {
      "cell_type": "markdown",
      "source": [
        "pass = esta vacio"
      ],
      "metadata": {
        "id": "F1q3FEE93LmU"
      }
    },
    {
      "cell_type": "markdown",
      "source": [
        "\n",
        "\n",
        "\n",
        "las clases ordena nuestro código ...✓ reduce número de comando, funciones,declaracion variable.... ✓genariza un algoritmo...\n",
        "\n"
      ],
      "metadata": {
        "id": "kbb65avD5_uY"
      }
    },
    {
      "cell_type": "code",
      "source": [
        "class persons():\n",
        "  def __init__(self, name, age):\n",
        "    self.name=name\n",
        "    self.age=age\n",
        "\n",
        "\n",
        "  def message(self):\n",
        "            print('Hi, {}'.format(self.name))\n",
        "            print('Your age is, {}'.format(self.age))\n",
        "\n",
        "person1=persons('Milena',22)\n",
        "person2=persons('Male',19)\n",
        "person3=persons('Melina',15)\n",
        "person4=persons('Mall',23)\n",
        "\n",
        "\n",
        "person3.message()"
      ],
      "metadata": {
        "colab": {
          "base_uri": "https://localhost:8080/"
        },
        "id": "JOtO5dHI6crL",
        "outputId": "d7ecc0f5-2255-4508-a10a-ad36a0b9eb3b"
      },
      "execution_count": null,
      "outputs": [
        {
          "output_type": "stream",
          "name": "stdout",
          "text": [
            "Hi, Melina\n",
            "Your age is, 15\n"
          ]
        }
      ]
    }
  ]
}