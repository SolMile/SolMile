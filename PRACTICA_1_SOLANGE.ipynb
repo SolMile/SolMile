{
  "nbformat": 4,
  "nbformat_minor": 0,
  "metadata": {
    "colab": {
      "provenance": [],
      "authorship_tag": "ABX9TyO1pw/YLQ18OEipfMdLKhwS",
      "include_colab_link": true
    },
    "kernelspec": {
      "name": "python3",
      "display_name": "Python 3"
    },
    "language_info": {
      "name": "python"
    }
  },
  "cells": [
    {
      "cell_type": "markdown",
      "metadata": {
        "id": "view-in-github",
        "colab_type": "text"
      },
      "source": [
        "<a href=\"https://colab.research.google.com/github/SolMile/SolMile/blob/main/PRACTICA_1_SOLANGE.ipynb\" target=\"_parent\"><img src=\"https://colab.research.google.com/assets/colab-badge.svg\" alt=\"Open In Colab\"/></a>"
      ]
    },
    {
      "cell_type": "code",
      "execution_count": null,
      "metadata": {
        "colab": {
          "base_uri": "https://localhost:8080/"
        },
        "id": "wwnLcxW8xk5A",
        "outputId": "861336d7-3d6b-4e2e-ff6c-46d914695d62"
      },
      "outputs": [
        {
          "output_type": "stream",
          "name": "stdout",
          "text": [
            "Python 3.10.12\n"
          ]
        }
      ],
      "source": [
        "!python --version"
      ]
    },
    {
      "cell_type": "code",
      "source": [],
      "metadata": {
        "id": "2x2fvS_Ns3En"
      },
      "execution_count": 20,
      "outputs": []
    },
    {
      "cell_type": "markdown",
      "source": [
        "Tipos de Datos Basicos"
      ],
      "metadata": {
        "id": "uPF2uA6Wxw0O"
      }
    },
    {
      "cell_type": "markdown",
      "source": [
        "print = imprimir\n",
        "type= tipo"
      ],
      "metadata": {
        "id": "rsliOFiSZ9DO"
      }
    },
    {
      "cell_type": "markdown",
      "source": [],
      "metadata": {
        "id": "ZQsd0fVacFlJ"
      }
    },
    {
      "cell_type": "code",
      "source": [],
      "metadata": {
        "id": "lywCGCELbbQ3"
      },
      "execution_count": null,
      "outputs": []
    },
    {
      "cell_type": "code",
      "source": [
        "sample1=10\n",
        "sample2=2.2\n",
        "sample3='solange'\n",
        "print(type(sample1))\n",
        "print(type(sample2))\n",
        "print(type(sample3))\n",
        "\n",
        "print(sample1+sample2)\n",
        "print(sample1+sample2)\n",
        "print(sample1**2)\n",
        "\n",
        "s1=True\n",
        "s2=False\n",
        "\n",
        "print(s1 and s2)\n",
        "print(s1 or s2)\n",
        "print(not s1)\n",
        "\n",
        "print(len(sample3))\n",
        "print(sample3.upper())\n",
        "print(sample3.lower())\n",
        "print(sample3.capitalize())"
      ],
      "metadata": {
        "colab": {
          "base_uri": "https://localhost:8080/"
        },
        "id": "YP67L96IbFe2",
        "outputId": "57663b2f-cd43-44fd-d0aa-52f9aaec3cbe"
      },
      "execution_count": null,
      "outputs": [
        {
          "output_type": "stream",
          "name": "stdout",
          "text": [
            "<class 'int'>\n",
            "<class 'float'>\n",
            "<class 'str'>\n",
            "12.2\n",
            "12.2\n",
            "100\n",
            "False\n",
            "True\n",
            "False\n",
            "4\n",
            "JUAN\n",
            "juan\n",
            "Juan\n"
          ]
        }
      ]
    },
    {
      "cell_type": "markdown",
      "source": [
        "print=imprimir\n",
        "-----type= función  que pertenece  a una clase que a su vez es una librería de python  tipo de dato, es método---- potencia *** ---datos booleanos true ---- operaciones logicas and y or"
      ],
      "metadata": {
        "id": "L1RRDjRDbTAo"
      }
    },
    {
      "cell_type": "code",
      "source": [],
      "metadata": {
        "id": "QO2p5sU-Y7Kt"
      },
      "execution_count": null,
      "outputs": []
    }
  ]
}