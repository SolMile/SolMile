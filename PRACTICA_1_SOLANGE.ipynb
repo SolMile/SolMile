{
  "nbformat": 4,
  "nbformat_minor": 0,
  "metadata": {
    "colab": {
      "provenance": [],
      "authorship_tag": "ABX9TyNFsZHAngYIBnalpuNX1EuF",
      "include_colab_link": true
    },
    "kernelspec": {
      "name": "python3",
      "display_name": "Python 3"
    },
    "language_info": {
      "name": "python"
    }
  },
  "cells": [
    {
      "cell_type": "markdown",
      "metadata": {
        "id": "view-in-github",
        "colab_type": "text"
      },
      "source": [
        "<a href=\"https://colab.research.google.com/github/SolMile/SolMile/blob/main/PRACTICA_1_SOLANGE.ipynb\" target=\"_parent\"><img src=\"https://colab.research.google.com/assets/colab-badge.svg\" alt=\"Open In Colab\"/></a>"
      ]
    },
    {
      "cell_type": "code",
      "execution_count": null,
      "metadata": {
        "colab": {
          "base_uri": "https://localhost:8080/"
        },
        "id": "wwnLcxW8xk5A",
        "outputId": "861336d7-3d6b-4e2e-ff6c-46d914695d62"
      },
      "outputs": [
        {
          "output_type": "stream",
          "name": "stdout",
          "text": [
            "Python 3.10.12\n"
          ]
        }
      ],
      "source": [
        "!python --version"
      ]
    },
    {
      "cell_type": "code",
      "source": [],
      "metadata": {
        "id": "2x2fvS_Ns3En"
      },
      "execution_count": null,
      "outputs": []
    },
    {
      "cell_type": "markdown",
      "source": [
        "Tipos de Datos Basicos"
      ],
      "metadata": {
        "id": "uPF2uA6Wxw0O"
      }
    },
    {
      "cell_type": "markdown",
      "source": [
        "print = imprimir\n",
        "type= tipo"
      ],
      "metadata": {
        "id": "rsliOFiSZ9DO"
      }
    },
    {
      "cell_type": "code",
      "source": [
        "sample1=10\n",
        "sample2=2.2\n",
        "sample3='solange'\n",
        "print(type(sample1))\n",
        "print(type(sample2))\n",
        "print(type(sample3))\n",
        "\n",
        "print(sample1+sample2)\n",
        "print(sample1+sample2)\n",
        "print(sample1**2)\n",
        "\n",
        "s1=True\n",
        "s2=False\n",
        "\n",
        "print(s1 and s2)\n",
        "print(s1 or s2)\n",
        "print(not s1)\n",
        "\n",
        "print(len(sample3))\n",
        "print(sample3.upper())\n",
        "print(sample3.lower())\n",
        "print(sample3.capitalize())"
      ],
      "metadata": {
        "colab": {
          "base_uri": "https://localhost:8080/"
        },
        "id": "YP67L96IbFe2",
        "outputId": "acab8ce7-d3c1-467c-e39c-1e623aae14ff"
      },
      "execution_count": 1,
      "outputs": [
        {
          "output_type": "stream",
          "name": "stdout",
          "text": [
            "<class 'int'>\n",
            "<class 'float'>\n",
            "<class 'str'>\n",
            "12.2\n",
            "12.2\n",
            "100\n",
            "False\n",
            "True\n",
            "False\n",
            "7\n",
            "SOLANGE\n",
            "solange\n",
            "Solange\n"
          ]
        }
      ]
    },
    {
      "cell_type": "markdown",
      "source": [
        "print=imprimir\n",
        "-----type= función  que pertenece  a una clase que a su vez es una librería de python  tipo de dato, es método---- potencia *** ---datos booleanos true ---- operaciones logicas and y or"
      ],
      "metadata": {
        "id": "L1RRDjRDbTAo"
      }
    },
    {
      "cell_type": "code",
      "source": [
        "someList=list()\n",
        "someList=['borrador',1,'cuaderno','goma','mochila', True]\n",
        "print(someList [3])\n",
        "print(someList[0])\n",
        "print(len(someList))\n",
        "\n",
        "print('….....')\n",
        "\n",
        "for i in someList:\n",
        "  print(i)\n",
        "\n",
        "someList.append('regla')\n",
        "print('*******')\n",
        "for i in someList:\n",
        "  print(i)\n",
        "someList.pop(2)\n",
        "print('°°°°°°°')\n",
        "for i in someList:\n",
        "  print(i)\n",
        "print('∆∆∆∆∆∆')\n",
        "print(someList[1:4])\n",
        "print(len(someList))\n",
        "\n",
        "print('........')\n",
        "print(someList[-1])\n",
        "print(someList[:3])"
      ],
      "metadata": {
        "colab": {
          "base_uri": "https://localhost:8080/"
        },
        "id": "cSVARYD5ycNT",
        "outputId": "31b9b2e8-eacc-44ca-aff8-1cf463321339"
      },
      "execution_count": 19,
      "outputs": [
        {
          "output_type": "stream",
          "name": "stdout",
          "text": [
            "goma\n",
            "borrador\n",
            "6\n",
            "….....\n",
            "borrador\n",
            "1\n",
            "cuaderno\n",
            "goma\n",
            "mochila\n",
            "True\n",
            "*******\n",
            "borrador\n",
            "1\n",
            "cuaderno\n",
            "goma\n",
            "mochila\n",
            "True\n",
            "regla\n",
            "°°°°°°°\n",
            "borrador\n",
            "1\n",
            "goma\n",
            "mochila\n",
            "True\n",
            "regla\n",
            "∆∆∆∆∆∆\n",
            "[1, 'goma', 'mochila']\n",
            "6\n",
            "........\n",
            "regla\n",
            "['borrador', 1, 'goma']\n"
          ]
        }
      ]
    },
    {
      "cell_type": "markdown",
      "source": [
        "✓someList es para listas\n",
        "✓len = numero de caracteres ✓mas caracteres"
      ],
      "metadata": {
        "id": "yzhIRBTMy3iy"
      }
    },
    {
      "cell_type": "code",
      "source": [
        "d={'name':'juan','age':30,'city':'El Carmen'}\n",
        "print(d['name'])\n",
        "print(d['city'])\n",
        "\n",
        "d['uni']='Uleam'\n",
        "print(d['uni'])\n",
        "\n",
        "print('****')\n",
        "\n",
        "for key in d:\n",
        "  print(d[key])"
      ],
      "metadata": {
        "colab": {
          "base_uri": "https://localhost:8080/"
        },
        "id": "uGw7gt2gjzLx",
        "outputId": "f92b7888-5229-4ad6-ccdd-6a63ff40a700"
      },
      "execution_count": 30,
      "outputs": [
        {
          "output_type": "stream",
          "name": "stdout",
          "text": [
            "juan\n",
            "El Carmen\n",
            "Uleam\n",
            "****\n",
            "juan\n",
            "30\n",
            "El Carmen\n",
            "Uleam\n"
          ]
        }
      ]
    }
  ]
}